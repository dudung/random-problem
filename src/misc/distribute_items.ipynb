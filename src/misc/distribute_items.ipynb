{
 "cells": [
  {
   "cell_type": "markdown",
   "id": "df6ffba6-6795-4f01-b815-5554594d8773",
   "metadata": {},
   "source": [
    "# distribute_items\n",
    "Distribute items make use of `randint()`"
   ]
  },
  {
   "cell_type": "code",
   "execution_count": 1,
   "id": "0969880d-352b-4368-b701-188019bc419b",
   "metadata": {},
   "outputs": [],
   "source": [
    "import random as rnd\n",
    "import numpy as np"
   ]
  },
  {
   "cell_type": "markdown",
   "id": "48eb6a0c-c47f-4f71-b90b-234db2e46343",
   "metadata": {},
   "source": [
    "## run-1"
   ]
  },
  {
   "cell_type": "code",
   "execution_count": 2,
   "id": "62170b15-790a-4544-922c-f122482cc68c",
   "metadata": {},
   "outputs": [],
   "source": [
    "N = 4\n",
    "x1 = [10 * rnd.randint(2, 6) for i in range(N)]\n",
    "x2 = [10 * rnd.randint(5, 8) for i in range(N)]\n",
    "x3 = (np.array(x1) * np.array(x2)).tolist()"
   ]
  },
  {
   "cell_type": "code",
   "execution_count": 3,
   "id": "e46a9905-9592-43ea-98ca-35db9f0950cd",
   "metadata": {},
   "outputs": [
    {
     "name": "stdout",
     "output_type": "stream",
     "text": [
      "[20, 50, 30, 50]\n",
      "[70, 70, 70, 80]\n",
      "[1400, 3500, 2100, 4000]\n"
     ]
    }
   ],
   "source": [
    "print(x1)\n",
    "print(x2)\n",
    "print(x3)"
   ]
  },
  {
   "cell_type": "code",
   "execution_count": 4,
   "id": "d3326052-3189-4769-8050-330444958c18",
   "metadata": {},
   "outputs": [
    {
     "name": "stdout",
     "output_type": "stream",
     "text": [
      "x1 x2 x1-x2\n",
      "20 70 50\n",
      "50 70 20\n",
      "30 70 40\n",
      "50 80 30\n"
     ]
    }
   ],
   "source": [
    "print('x1 x2 x1-x2')\n",
    "for i in range(4):\n",
    "    print(x1[i], x2[i], x2[i]-x1[i])"
   ]
  },
  {
   "cell_type": "markdown",
   "id": "b9ce3300-0c8e-40cd-a14e-6e9d4f452984",
   "metadata": {},
   "source": [
    "## run-2"
   ]
  },
  {
   "cell_type": "code",
   "execution_count": 5,
   "id": "364731fe-49fe-4cd3-9835-ab9ee14f4f09",
   "metadata": {},
   "outputs": [],
   "source": [
    "N = 4\n",
    "x1 = [10 * rnd.randint(2, 6) for i in range(N)]\n",
    "x2 = [10 * rnd.randint(4, 7) for i in range(N)]\n",
    "x3 = [10 * rnd.randint(5, 8) for i in range(N)]\n",
    "x4 = (np.array(x1) * np.array(x2) * np.array(x3)).tolist()"
   ]
  },
  {
   "cell_type": "code",
   "execution_count": 6,
   "id": "87f9cda9-5828-4b7e-8ff1-7b1b8923db72",
   "metadata": {},
   "outputs": [
    {
     "name": "stdout",
     "output_type": "stream",
     "text": [
      "[30, 50, 30, 20]\n",
      "[50, 40, 50, 50]\n",
      "[70, 80, 50, 80]\n",
      "[105000, 160000, 75000, 80000]\n"
     ]
    }
   ],
   "source": [
    "print(x1)\n",
    "print(x2)\n",
    "print(x3)\n",
    "print(x4)"
   ]
  },
  {
   "cell_type": "code",
   "execution_count": 7,
   "id": "62b314d2-67eb-4335-bae1-ecf63c96ea61",
   "metadata": {},
   "outputs": [
    {
     "name": "stdout",
     "output_type": "stream",
     "text": [
      "x1 x2 x3 x1x2x3\n",
      "30 50 70 105000\n",
      "50 40 80 160000\n",
      "30 50 50 75000\n",
      "20 50 80 80000\n"
     ]
    }
   ],
   "source": [
    "print('x1 x2 x3 x1x2x3')\n",
    "for i in range(4):\n",
    "    print(x1[i], x2[i], x3[i], x4[i])"
   ]
  },
  {
   "cell_type": "code",
   "execution_count": null,
   "id": "6479b134-0bab-49b7-b735-59ad86311787",
   "metadata": {},
   "outputs": [],
   "source": []
  }
 ],
 "metadata": {
  "kernelspec": {
   "display_name": "Python 3 (ipykernel)",
   "language": "python",
   "name": "python3"
  },
  "language_info": {
   "codemirror_mode": {
    "name": "ipython",
    "version": 3
   },
   "file_extension": ".py",
   "mimetype": "text/x-python",
   "name": "python",
   "nbconvert_exporter": "python",
   "pygments_lexer": "ipython3",
   "version": "3.12.3"
  }
 },
 "nbformat": 4,
 "nbformat_minor": 5
}
