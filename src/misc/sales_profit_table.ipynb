{
 "cells": [
  {
   "cell_type": "markdown",
   "id": "a3c07338-3e50-4d21-b50b-24b8e5b02547",
   "metadata": {},
   "source": [
    "# sales_profit_table\n",
    "Table generated with `randint()`"
   ]
  },
  {
   "cell_type": "code",
   "execution_count": 1,
   "id": "75477526-a2d5-4c04-b05a-b9ec36be625d",
   "metadata": {},
   "outputs": [],
   "source": [
    "# module and packages\n",
    "import os\n",
    "import sys\n",
    "from pathlib import Path\n",
    "\n",
    "current_path = Path.cwd()\n",
    "drive = os.path.splitdrive(current_path)\n",
    "src_path = str(Path(drive[0]) / '/random-problem/src')\n",
    "sys.path.insert(0, src_path)\n",
    "\n",
    "from rplibs import store_sales as ss\n",
    "import random as rnd"
   ]
  },
  {
   "cell_type": "code",
   "execution_count": 2,
   "id": "c5ce13c1-2e0d-40e2-aba9-69ffe5f41368",
   "metadata": {},
   "outputs": [],
   "source": [
    "# type\n",
    "type = ['Pencil', 'Ballpen', 'Marker', 'Crayon', 'Chalk']\n",
    "Ntype = len(type)"
   ]
  },
  {
   "cell_type": "code",
   "execution_count": 8,
   "id": "d5d38aa1-3987-48dc-ad6f-508f5b56c27d",
   "metadata": {},
   "outputs": [],
   "source": [
    "# profit\n",
    "profit = [100, 200, 400, 300, 200]"
   ]
  },
  {
   "cell_type": "code",
   "execution_count": 4,
   "id": "7e90d488-fa58-48cc-a2ba-cf41451caae8",
   "metadata": {},
   "outputs": [],
   "source": [
    "# stores\n",
    "stores =  ['Aldi', 'Edeka', 'Lidl', 'Penny', 'Rewe', 'Zothers']"
   ]
  },
  {
   "cell_type": "code",
   "execution_count": 5,
   "id": "d6c9f53c-bf9d-4c15-bc62-ffa6a4aee5ae",
   "metadata": {},
   "outputs": [],
   "source": [
    "# sales\n",
    "sales = {}\n",
    "for s in stores:\n",
    "    x = [10 * rnd.randint(1, 5) for i in range(Ntype)]\n",
    "    sales[s] = x"
   ]
  },
  {
   "cell_type": "code",
   "execution_count": 10,
   "id": "ec98084b-f7bb-4751-8c40-ab7e23530fee",
   "metadata": {},
   "outputs": [
    {
     "name": "stdout",
     "output_type": "stream",
     "text": [
      "        Sales\n",
      "Stores\tPencil\tBallpen\tMarker\tCrayon\tChalk\t\n",
      "Aldi\t30\t10\t10\t40\t10\t\n",
      "Edeka\t20\t20\t10\t10\t30\t\n",
      "Lidl\t40\t10\t20\t30\t50\t\n",
      "Penny\t30\t10\t10\t30\t30\t\n",
      "Rewe\t40\t30\t40\t40\t40\t\n",
      "Zothers\t30\t50\t20\t10\t50\t\n"
     ]
    }
   ],
   "source": [
    "# sales table\n",
    "ss.print_sales(type, stores, sales)"
   ]
  },
  {
   "cell_type": "code",
   "execution_count": 9,
   "id": "5ea4b62b-0356-4731-b8f9-2f6d2f25223f",
   "metadata": {},
   "outputs": [
    {
     "name": "stdout",
     "output_type": "stream",
     "text": [
      "Stores\tProfit\n",
      "Aldi\t23000\n",
      "Edeka\t19000\n",
      "Lidl\t33000\n",
      "Penny\t24000\n",
      "Rewe\t46000\n",
      "Zothers\t34000\n"
     ]
    }
   ],
   "source": [
    "# stores profit\n",
    "sp = ss.get_stores_profit(stores, profit, sales)\n",
    "ss.print_profits(sp)"
   ]
  },
  {
   "cell_type": "code",
   "execution_count": null,
   "id": "d9eb4948-5aff-4005-b3cb-2157fc5625ce",
   "metadata": {},
   "outputs": [],
   "source": []
  }
 ],
 "metadata": {
  "kernelspec": {
   "display_name": "Python 3 (ipykernel)",
   "language": "python",
   "name": "python3"
  },
  "language_info": {
   "codemirror_mode": {
    "name": "ipython",
    "version": 3
   },
   "file_extension": ".py",
   "mimetype": "text/x-python",
   "name": "python",
   "nbconvert_exporter": "python",
   "pygments_lexer": "ipython3",
   "version": "3.12.3"
  }
 },
 "nbformat": 4,
 "nbformat_minor": 5
}
