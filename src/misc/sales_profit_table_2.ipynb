{
 "cells": [
  {
   "cell_type": "markdown",
   "id": "a3c07338-3e50-4d21-b50b-24b8e5b02547",
   "metadata": {},
   "source": [
    "# sales_profit_table_2\n",
    "Table generated with `randint()`"
   ]
  },
  {
   "cell_type": "code",
   "execution_count": 1,
   "id": "75477526-a2d5-4c04-b05a-b9ec36be625d",
   "metadata": {},
   "outputs": [],
   "source": [
    "# module and packages\n",
    "import os\n",
    "import sys\n",
    "from pathlib import Path\n",
    "\n",
    "current_path = Path.cwd()\n",
    "drive = os.path.splitdrive(current_path)\n",
    "src_path = str(Path(drive[0]) / '/random-problem/src')\n",
    "sys.path.insert(0, src_path)\n",
    "\n",
    "from rplibs import store_sales as ss\n",
    "import random as rnd"
   ]
  },
  {
   "cell_type": "code",
   "execution_count": 2,
   "id": "c5ce13c1-2e0d-40e2-aba9-69ffe5f41368",
   "metadata": {},
   "outputs": [],
   "source": [
    "# type\n",
    "type = ['Apple', 'Durian', 'Manggo', 'Papaya']\n",
    "Ntype = len(type)"
   ]
  },
  {
   "cell_type": "code",
   "execution_count": 3,
   "id": "d5d38aa1-3987-48dc-ad6f-508f5b56c27d",
   "metadata": {},
   "outputs": [],
   "source": [
    "# profit\n",
    "profit = [3000, 1000, 1500, 2000]"
   ]
  },
  {
   "cell_type": "code",
   "execution_count": 4,
   "id": "7e90d488-fa58-48cc-a2ba-cf41451caae8",
   "metadata": {},
   "outputs": [],
   "source": [
    "# stores\n",
    "stores =  ['Lawson', 'Borma', 'Demart']"
   ]
  },
  {
   "cell_type": "markdown",
   "id": "6df80277-ab28-459c-8a50-7fce5e74a036",
   "metadata": {},
   "source": [
    "## run-1"
   ]
  },
  {
   "cell_type": "code",
   "execution_count": 5,
   "id": "d6c9f53c-bf9d-4c15-bc62-ffa6a4aee5ae",
   "metadata": {},
   "outputs": [],
   "source": [
    "# sales\n",
    "sales = {}\n",
    "for s in stores:\n",
    "    x = [1 * rnd.randint(1, 6) for i in range(Ntype)]\n",
    "    sales[s] = x"
   ]
  },
  {
   "cell_type": "code",
   "execution_count": 6,
   "id": "ec98084b-f7bb-4751-8c40-ab7e23530fee",
   "metadata": {},
   "outputs": [
    {
     "name": "stdout",
     "output_type": "stream",
     "text": [
      "       Sales\n",
      "Stores\tApple\tDurian\tManggo\tPapaya\t\n",
      "Lawson\t1\t6\t1\t2\t\n",
      "Borma\t1\t5\t3\t4\t\n",
      "Demart\t1\t6\t4\t3\t\n"
     ]
    }
   ],
   "source": [
    "# sales table\n",
    "ss.print_sales(type, stores, sales)"
   ]
  },
  {
   "cell_type": "code",
   "execution_count": 7,
   "id": "5ea4b62b-0356-4731-b8f9-2f6d2f25223f",
   "metadata": {},
   "outputs": [
    {
     "name": "stdout",
     "output_type": "stream",
     "text": [
      "Stores\tProfit\n",
      "Lawson\t14500\n",
      "Borma\t20500\n",
      "Demart\t21000\n"
     ]
    }
   ],
   "source": [
    "# stores profit\n",
    "sp = ss.get_stores_profit(stores, profit, sales)\n",
    "ss.print_profits(sp)"
   ]
  },
  {
   "cell_type": "markdown",
   "id": "d292803b-78f5-48f5-a99a-68d25277d3aa",
   "metadata": {},
   "source": [
    "## run-2"
   ]
  },
  {
   "cell_type": "code",
   "execution_count": 8,
   "id": "8f3aff25-9f00-4b77-883d-2739c17cf91d",
   "metadata": {},
   "outputs": [],
   "source": [
    "# sales\n",
    "sales = {}\n",
    "for s in stores:\n",
    "    x = [1 * rnd.randint(1, 6) for i in range(Ntype)]\n",
    "    sales[s] = x"
   ]
  },
  {
   "cell_type": "code",
   "execution_count": 9,
   "id": "d407d9b7-3038-4dd9-9a0d-d862c7e90ffa",
   "metadata": {},
   "outputs": [
    {
     "name": "stdout",
     "output_type": "stream",
     "text": [
      "       Sales\n",
      "Stores\tApple\tDurian\tManggo\tPapaya\t\n",
      "Lawson\t3\t1\t4\t5\t\n",
      "Borma\t4\t6\t2\t4\t\n",
      "Demart\t4\t2\t5\t5\t\n"
     ]
    }
   ],
   "source": [
    "# sales table\n",
    "ss.print_sales(type, stores, sales)"
   ]
  },
  {
   "cell_type": "code",
   "execution_count": 10,
   "id": "a8dc74dc-868c-4116-84c2-368c536cf47d",
   "metadata": {},
   "outputs": [
    {
     "name": "stdout",
     "output_type": "stream",
     "text": [
      "Stores\tProfit\n",
      "Lawson\t26000\n",
      "Borma\t29000\n",
      "Demart\t31500\n"
     ]
    }
   ],
   "source": [
    "# stores profit\n",
    "sp = ss.get_stores_profit(stores, profit, sales)\n",
    "ss.print_profits(sp)"
   ]
  },
  {
   "cell_type": "markdown",
   "id": "bfe45eb4-6d10-4a1c-a444-6dabcb86dd7b",
   "metadata": {},
   "source": [
    "## run-3"
   ]
  },
  {
   "cell_type": "code",
   "execution_count": 11,
   "id": "49ef3ec8-a9f5-4b9b-a28d-e54bf337f8a3",
   "metadata": {},
   "outputs": [],
   "source": [
    "# sales\n",
    "sales = {}\n",
    "for s in stores:\n",
    "    x = [1 * rnd.randint(1, 6) for i in range(Ntype)]\n",
    "    sales[s] = x"
   ]
  },
  {
   "cell_type": "code",
   "execution_count": 12,
   "id": "7355008c-6213-4a1c-ad06-5d356236ec57",
   "metadata": {},
   "outputs": [
    {
     "name": "stdout",
     "output_type": "stream",
     "text": [
      "       Sales\n",
      "Stores\tApple\tDurian\tManggo\tPapaya\t\n",
      "Lawson\t5\t2\t4\t4\t\n",
      "Borma\t5\t2\t3\t6\t\n",
      "Demart\t1\t6\t5\t6\t\n"
     ]
    }
   ],
   "source": [
    "# sales table\n",
    "ss.print_sales(type, stores, sales)"
   ]
  },
  {
   "cell_type": "code",
   "execution_count": 13,
   "id": "fe037626-6e6e-40b5-afba-b987ffb20ee6",
   "metadata": {},
   "outputs": [
    {
     "name": "stdout",
     "output_type": "stream",
     "text": [
      "Stores\tProfit\n",
      "Lawson\t31000\n",
      "Borma\t33500\n",
      "Demart\t28500\n"
     ]
    }
   ],
   "source": [
    "# stores profit\n",
    "sp = ss.get_stores_profit(stores, profit, sales)\n",
    "ss.print_profits(sp)"
   ]
  },
  {
   "cell_type": "markdown",
   "id": "470a7525-5a64-48f8-83bb-7a415da9b07a",
   "metadata": {},
   "source": [
    "## run-4"
   ]
  },
  {
   "cell_type": "code",
   "execution_count": 14,
   "id": "f606ea4f-5d34-40b9-82a2-d6fe3cde3ca2",
   "metadata": {},
   "outputs": [],
   "source": [
    "# sales\n",
    "sales = {}\n",
    "for s in stores:\n",
    "    x = [1 * rnd.randint(1, 6) for i in range(Ntype)]\n",
    "    sales[s] = x"
   ]
  },
  {
   "cell_type": "code",
   "execution_count": 15,
   "id": "61fffde3-64d4-4934-bd15-050cd8f3664d",
   "metadata": {},
   "outputs": [
    {
     "name": "stdout",
     "output_type": "stream",
     "text": [
      "       Sales\n",
      "Stores\tApple\tDurian\tManggo\tPapaya\t\n",
      "Lawson\t2\t6\t5\t5\t\n",
      "Borma\t4\t5\t1\t1\t\n",
      "Demart\t2\t6\t3\t1\t\n"
     ]
    }
   ],
   "source": [
    "# sales table\n",
    "ss.print_sales(type, stores, sales)"
   ]
  },
  {
   "cell_type": "code",
   "execution_count": 16,
   "id": "a766035e-91a7-47cd-baf4-6bdc1d4dd8b8",
   "metadata": {},
   "outputs": [
    {
     "name": "stdout",
     "output_type": "stream",
     "text": [
      "Stores\tProfit\n",
      "Lawson\t29500\n",
      "Borma\t20500\n",
      "Demart\t18500\n"
     ]
    }
   ],
   "source": [
    "# stores profit\n",
    "sp = ss.get_stores_profit(stores, profit, sales)\n",
    "ss.print_profits(sp)"
   ]
  },
  {
   "cell_type": "markdown",
   "id": "e62818c2-c26f-4355-b1d4-d2070ae1ea5d",
   "metadata": {},
   "source": [
    "## run-5"
   ]
  },
  {
   "cell_type": "code",
   "execution_count": 17,
   "id": "59d79ba3-38dc-40bc-aa4b-cf4785b92667",
   "metadata": {},
   "outputs": [],
   "source": [
    "# sales\n",
    "sales = {}\n",
    "for s in stores:\n",
    "    x = [1 * rnd.randint(1, 6) for i in range(Ntype)]\n",
    "    sales[s] = x"
   ]
  },
  {
   "cell_type": "code",
   "execution_count": 18,
   "id": "a175b10a-4f6d-4d35-90e9-8d81cec9ee2b",
   "metadata": {},
   "outputs": [
    {
     "name": "stdout",
     "output_type": "stream",
     "text": [
      "       Sales\n",
      "Stores\tApple\tDurian\tManggo\tPapaya\t\n",
      "Lawson\t1\t2\t4\t5\t\n",
      "Borma\t3\t1\t3\t6\t\n",
      "Demart\t1\t6\t4\t3\t\n"
     ]
    }
   ],
   "source": [
    "# sales table\n",
    "ss.print_sales(type, stores, sales)"
   ]
  },
  {
   "cell_type": "code",
   "execution_count": 19,
   "id": "67668467-5295-4fb1-97f6-6a93e6c930ad",
   "metadata": {},
   "outputs": [
    {
     "name": "stdout",
     "output_type": "stream",
     "text": [
      "Stores\tProfit\n",
      "Lawson\t21000\n",
      "Borma\t26500\n",
      "Demart\t21000\n"
     ]
    }
   ],
   "source": [
    "# stores profit\n",
    "sp = ss.get_stores_profit(stores, profit, sales)\n",
    "ss.print_profits(sp)"
   ]
  },
  {
   "cell_type": "code",
   "execution_count": null,
   "id": "4953ce0e-1ce4-4b39-9499-d2eb52418dcc",
   "metadata": {},
   "outputs": [],
   "source": []
  }
 ],
 "metadata": {
  "kernelspec": {
   "display_name": "Python 3 (ipykernel)",
   "language": "python",
   "name": "python3"
  },
  "language_info": {
   "codemirror_mode": {
    "name": "ipython",
    "version": 3
   },
   "file_extension": ".py",
   "mimetype": "text/x-python",
   "name": "python",
   "nbconvert_exporter": "python",
   "pygments_lexer": "ipython3",
   "version": "3.12.3"
  }
 },
 "nbformat": 4,
 "nbformat_minor": 5
}
