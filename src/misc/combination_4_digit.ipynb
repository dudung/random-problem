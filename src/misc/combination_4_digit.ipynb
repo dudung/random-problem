{
 "cells": [
  {
   "cell_type": "markdown",
   "id": "d77d40d4-5065-4dc8-97ba-c9f209b3a828",
   "metadata": {},
   "source": [
    "# combination of 4 digits\n",
    "Create combination of 4 digits using `randint()`"
   ]
  },
  {
   "cell_type": "code",
   "execution_count": 1,
   "id": "a9572e5e-8196-4de6-b899-4ddcaa5f1958",
   "metadata": {},
   "outputs": [],
   "source": [
    "import random as rnd"
   ]
  },
  {
   "cell_type": "code",
   "execution_count": 5,
   "id": "fe94f8d3-702f-4793-a0e6-b4b65aac1bfa",
   "metadata": {},
   "outputs": [
    {
     "name": "stdout",
     "output_type": "stream",
     "text": [
      "0000\n",
      "1111\n",
      "2222\n",
      "3333\n",
      "4444\n",
      "5555\n",
      "6666\n",
      "7777\n",
      "8888\n",
      "9999\n"
     ]
    }
   ],
   "source": [
    "# all the same digits\n",
    "for a in range(10):\n",
    "    for b in range(10):\n",
    "        for c in range(10):\n",
    "            for d in range(10):\n",
    "                if a == b == c == d:\n",
    "                    print(a, b, c, d, sep='')"
   ]
  },
  {
   "cell_type": "code",
   "execution_count": 10,
   "id": "dec56e00-184f-4b97-a9cf-ca7a81c6e26c",
   "metadata": {},
   "outputs": [
    {
     "name": "stdout",
     "output_type": "stream",
     "text": [
      "4221\n",
      "8442\n"
     ]
    }
   ],
   "source": [
    "# a = 2b, c = 2d, a = 2c, a > 0, b > 0\n",
    "for a in range(10):\n",
    "    for b in range(10):\n",
    "        for c in range(10):\n",
    "            for d in range(10):\n",
    "                if a == 2*b and c == 2*d and a == 2*c and a != 0 and b != 0:\n",
    "                    print(a, b, c, d, sep='')"
   ]
  },
  {
   "cell_type": "code",
   "execution_count": 16,
   "id": "d5dbcad1-7a38-415b-8e75-6a08f8e9e959",
   "metadata": {},
   "outputs": [
    {
     "name": "stdout",
     "output_type": "stream",
     "text": [
      "4123\n",
      "8246\n"
     ]
    }
   ],
   "source": [
    "# a = 2c, d = 3b, c = 2b, a > 0, b > 0\n",
    "for a in range(10):\n",
    "    for b in range(10):\n",
    "        for c in range(10):\n",
    "            for d in range(10):\n",
    "                if a == 2*c and d == 3*b and c == 2*b and a != 0 and b != 0:\n",
    "                    print(a, b, c, d, sep='')"
   ]
  },
  {
   "cell_type": "code",
   "execution_count": 26,
   "id": "3afc3e03-06e0-4caf-894d-e70bbdd92609",
   "metadata": {},
   "outputs": [
    {
     "name": "stdout",
     "output_type": "stream",
     "text": [
      "4114\n",
      "4411\n",
      "8228\n",
      "8822\n"
     ]
    }
   ],
   "source": [
    "# a = 4c, a+c = b+d, a > 0, b > 0\n",
    "for a in range(10):\n",
    "    for b in range(10):\n",
    "        for c in range(10):\n",
    "            for d in range(10):\n",
    "                if a == 4*c and a+c == b+d and a != 0 and b != 0 and (a == b or a == d):\n",
    "                    print(a, b, c, d, sep='')"
   ]
  },
  {
   "cell_type": "code",
   "execution_count": null,
   "id": "3405a316-385e-4d85-8949-98fd297a3656",
   "metadata": {},
   "outputs": [],
   "source": []
  }
 ],
 "metadata": {
  "kernelspec": {
   "display_name": "Python 3 (ipykernel)",
   "language": "python",
   "name": "python3"
  },
  "language_info": {
   "codemirror_mode": {
    "name": "ipython",
    "version": 3
   },
   "file_extension": ".py",
   "mimetype": "text/x-python",
   "name": "python",
   "nbconvert_exporter": "python",
   "pygments_lexer": "ipython3",
   "version": "3.12.3"
  }
 },
 "nbformat": 4,
 "nbformat_minor": 5
}
