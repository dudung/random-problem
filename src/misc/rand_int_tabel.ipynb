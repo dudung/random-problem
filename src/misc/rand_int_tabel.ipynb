{
 "cells": [
  {
   "cell_type": "markdown",
   "id": "a3c07338-3e50-4d21-b50b-24b8e5b02547",
   "metadata": {},
   "source": [
    "# rand_int_table\n",
    "Table generated with `randint()`"
   ]
  },
  {
   "cell_type": "code",
   "execution_count": 1,
   "id": "75477526-a2d5-4c04-b05a-b9ec36be625d",
   "metadata": {},
   "outputs": [],
   "source": [
    "# module and packages\n",
    "import os\n",
    "import sys\n",
    "from pathlib import Path\n",
    "\n",
    "current_path = Path.cwd()\n",
    "drive = os.path.splitdrive(current_path)\n",
    "src_path = str(Path(drive[0]) / '/random-problem/src')\n",
    "sys.path.insert(0, src_path)\n",
    "\n",
    "from rplibs import string_list as sl\n",
    "import random as rnd"
   ]
  },
  {
   "cell_type": "code",
   "execution_count": 2,
   "id": "c5ce13c1-2e0d-40e2-aba9-69ffe5f41368",
   "metadata": {},
   "outputs": [],
   "source": [
    "# type\n",
    "type = ['Pencil', 'Ballpen', 'Marker', 'Crayon', 'Chalk']\n",
    "Ntype = len(type)"
   ]
  },
  {
   "cell_type": "code",
   "execution_count": 3,
   "id": "d5d38aa1-3987-48dc-ad6f-508f5b56c27d",
   "metadata": {},
   "outputs": [],
   "source": [
    "# profit\n",
    "profit = [100, 200, 400, 300, 200]"
   ]
  },
  {
   "cell_type": "code",
   "execution_count": 4,
   "id": "7e90d488-fa58-48cc-a2ba-cf41451caae8",
   "metadata": {},
   "outputs": [],
   "source": [
    "# stores\n",
    "stores =  ['Aldi', 'Edeka', 'Lidl', 'Penny', 'Rewe', 'Others']"
   ]
  },
  {
   "cell_type": "code",
   "execution_count": 5,
   "id": "d6c9f53c-bf9d-4c15-bc62-ffa6a4aee5ae",
   "metadata": {},
   "outputs": [],
   "source": [
    "# sales\n",
    "sales = {}\n",
    "for s in stores:\n",
    "    x = [100 * rnd.randint(1, 5) for i in range(Ntype)]\n",
    "    sales[s] = x"
   ]
  },
  {
   "cell_type": "code",
   "execution_count": 6,
   "id": "ec98084b-f7bb-4751-8c40-ab7e23530fee",
   "metadata": {},
   "outputs": [
    {
     "name": "stdout",
     "output_type": "stream",
     "text": [
      "        Sales\n",
      "Stores\tPencil\tBallpen\tMarker\tCrayon\tChalk\t\n",
      "Aldi\t200\t100\t100\t500\t400\t\n",
      "Edeka\t400\t200\t300\t500\t500\t\n",
      "Lidl\t100\t400\t200\t200\t300\t\n",
      "Penny\t200\t300\t400\t400\t500\t\n",
      "Rewe\t200\t300\t300\t500\t300\t\n",
      "Others\t100\t300\t300\t300\t500\t\n"
     ]
    }
   ],
   "source": [
    "# table\n",
    "sl.print_table(type, stores, sales)"
   ]
  },
  {
   "cell_type": "code",
   "execution_count": null,
   "id": "5ea4b62b-0356-4731-b8f9-2f6d2f25223f",
   "metadata": {},
   "outputs": [],
   "source": [
    "# stores profit\n",
    "stores_profit = []\n",
    "for i"
   ]
  }
 ],
 "metadata": {
  "kernelspec": {
   "display_name": "Python 3 (ipykernel)",
   "language": "python",
   "name": "python3"
  },
  "language_info": {
   "codemirror_mode": {
    "name": "ipython",
    "version": 3
   },
   "file_extension": ".py",
   "mimetype": "text/x-python",
   "name": "python",
   "nbconvert_exporter": "python",
   "pygments_lexer": "ipython3",
   "version": "3.12.3"
  }
 },
 "nbformat": 4,
 "nbformat_minor": 5
}
