{
 "cells": [
  {
   "cell_type": "markdown",
   "id": "a3c07338-3e50-4d21-b50b-24b8e5b02547",
   "metadata": {},
   "source": [
    "# rand_int_table\n",
    "Table generated with `randint()`"
   ]
  },
  {
   "cell_type": "code",
   "execution_count": 1,
   "id": "75477526-a2d5-4c04-b05a-b9ec36be625d",
   "metadata": {},
   "outputs": [],
   "source": [
    "import random as rnd"
   ]
  },
  {
   "cell_type": "code",
   "execution_count": 2,
   "id": "c5ce13c1-2e0d-40e2-aba9-69ffe5f41368",
   "metadata": {},
   "outputs": [],
   "source": [
    "# type\n",
    "type = ['Pencil', 'Ballpoint', 'Marker', 'Crayon', 'Chalk']\n",
    "Ntype = len(type)"
   ]
  },
  {
   "cell_type": "code",
   "execution_count": 3,
   "id": "d5d38aa1-3987-48dc-ad6f-508f5b56c27d",
   "metadata": {},
   "outputs": [],
   "source": [
    "# profit\n",
    "profit = [100, 200, 400, 300, 200]"
   ]
  },
  {
   "cell_type": "code",
   "execution_count": 4,
   "id": "7e90d488-fa58-48cc-a2ba-cf41451caae8",
   "metadata": {},
   "outputs": [],
   "source": [
    "# stores\n",
    "stores =  ['Aldi', 'Edeka', 'Lidl', 'Penny', 'Rewe-rewe']"
   ]
  },
  {
   "cell_type": "code",
   "execution_count": 5,
   "id": "d6c9f53c-bf9d-4c15-bc62-ffa6a4aee5ae",
   "metadata": {},
   "outputs": [],
   "source": [
    "# sales\n",
    "sales = {}\n",
    "for s in stores:\n",
    "    x = [100 * rnd.randint(1, 5) for i in range(Ntype)]\n",
    "    sales[s] = x"
   ]
  },
  {
   "cell_type": "code",
   "execution_count": 23,
   "id": "ec98084b-f7bb-4751-8c40-ab7e23530fee",
   "metadata": {},
   "outputs": [],
   "source": [
    "def print_table(type, store, sales):\n",
    "    pass"
   ]
  },
  {
   "cell_type": "code",
   "execution_count": 5,
   "id": "4d452bee-768e-456e-9c19-08efb339df56",
   "metadata": {
    "scrolled": true
   },
   "outputs": [
    {
     "name": "stdout",
     "output_type": "stream",
     "text": [
      "x = ['a', 'cde', 'xt', '12345', '', 'x94sD2-']\n",
      "gml(x) = 7\n"
     ]
    }
   ],
   "source": [
    "from mylibs import gml\n",
    "\n",
    "x = ['a', 'cde', 'xt', '12345', '', 'x94sD2-']\n",
    "print('x =', x)\n",
    "print('gml(x) =', gml.get_max_length(x))"
   ]
  },
  {
   "cell_type": "code",
   "execution_count": null,
   "id": "c75123b9-e130-4182-a861-bcb90e8f56c8",
   "metadata": {},
   "outputs": [],
   "source": []
  },
  {
   "cell_type": "code",
   "execution_count": null,
   "id": "5ea4b62b-0356-4731-b8f9-2f6d2f25223f",
   "metadata": {},
   "outputs": [],
   "source": []
  }
 ],
 "metadata": {
  "kernelspec": {
   "display_name": "Python 3 (ipykernel)",
   "language": "python",
   "name": "python3"
  },
  "language_info": {
   "codemirror_mode": {
    "name": "ipython",
    "version": 3
   },
   "file_extension": ".py",
   "mimetype": "text/x-python",
   "name": "python",
   "nbconvert_exporter": "python",
   "pygments_lexer": "ipython3",
   "version": "3.12.3"
  }
 },
 "nbformat": 4,
 "nbformat_minor": 5
}
